{
 "cells": [
  {
   "cell_type": "markdown",
   "id": "967107cc",
   "metadata": {},
   "source": [
    "### 1. WAP to check if the given number is a palindrome"
   ]
  },
  {
   "cell_type": "code",
   "execution_count": 8,
   "id": "4bebf818",
   "metadata": {},
   "outputs": [
    {
     "name": "stdout",
     "output_type": "stream",
     "text": [
      "Enter a number to check if it's a palindrome121\n",
      "121 is a palindrome\n"
     ]
    }
   ],
   "source": [
    "number = int(input(\"Enter a number to check if it's a palindrome\"))\n",
    "rev_number = int( str(number)[::-1] )\n",
    "if (number == rev_number):\n",
    "    print(number,'is a palindrome')\n",
    "else:\n",
    "    print(number,'is not palindrome')"
   ]
  },
  {
   "cell_type": "markdown",
   "id": "822a9d81",
   "metadata": {},
   "source": [
    "### 2. WAP to print multiplication table if the given number"
   ]
  },
  {
   "cell_type": "code",
   "execution_count": 10,
   "id": "1f144770",
   "metadata": {},
   "outputs": [
    {
     "name": "stdout",
     "output_type": "stream",
     "text": [
      "Enter a number to get it's multiplication table2\n",
      "2 x 1 = 2\n",
      "2 x 2 = 4\n",
      "2 x 3 = 6\n",
      "2 x 4 = 8\n",
      "2 x 5 = 10\n",
      "2 x 6 = 12\n",
      "2 x 7 = 14\n",
      "2 x 8 = 16\n",
      "2 x 9 = 18\n",
      "2 x 10 = 20\n"
     ]
    }
   ],
   "source": [
    "number = int(input('Enter a number to get it\\'s multiplication table'))\n",
    "\n",
    "for value in range(1,11):\n",
    "    print(number,'x',value,'=',number * value)\n"
   ]
  },
  {
   "cell_type": "markdown",
   "id": "34cbf70d",
   "metadata": {},
   "source": [
    "### 3. WAP to take two lists of numbers from the user and create a new list such that it contains odd numbers from the first list and even numbers from the second ltst"
   ]
  },
  {
   "cell_type": "code",
   "execution_count": 35,
   "id": "76587781",
   "metadata": {},
   "outputs": [
    {
     "name": "stdout",
     "output_type": "stream",
     "text": [
      "Enter number of elemnts to store in first list1\n",
      "Enter number of elemnts to store in second list1\n",
      "Enter a number to store in first list2\n",
      "\n",
      "Enter a number to store in second list4\n",
      "\n"
     ]
    },
    {
     "data": {
      "text/plain": [
       "[4]"
      ]
     },
     "execution_count": 35,
     "metadata": {},
     "output_type": "execute_result"
    }
   ],
   "source": [
    "first_list_length = int(input('Enter number of elemnts to store in first list'))\n",
    "second_list_length = int(input('Enter number of elemnts to store in second list'))\n",
    "\n",
    "new_list = []\n",
    "first_list=[]\n",
    "second_list=[]\n",
    "\n",
    "for index in range(first_list_length):\n",
    "    first_list.append(input('Enter a number to store in first list'))\n",
    "\n",
    "print()\n",
    "\n",
    "for index in range(second_list_length):\n",
    "    second_list.append(input('Enter a number to store in second list'))\n",
    "\n",
    "print()\n",
    "\n",
    "for list1, list2 in zip(first_list, second_list):\n",
    "    if(int(list1)%2 == 1):\n",
    "        new_list.append(int(list1))\n",
    "    if(int(list2)%2 == 0):\n",
    "        new_list.append(int(list2))\n",
    "        \n",
    "new_list.sort()\n",
    "new_list"
   ]
  },
  {
   "cell_type": "markdown",
   "id": "ff5d23f2",
   "metadata": {},
   "source": [
    "### 4. WAP to take two matrix (2x2) input from the user and perform matrix multiplication"
   ]
  },
  {
   "cell_type": "code",
   "execution_count": 51,
   "id": "1ca0bedc",
   "metadata": {},
   "outputs": [
    {
     "data": {
      "text/plain": [
       "[[9, 11], [13, 15]]"
      ]
     },
     "execution_count": 51,
     "metadata": {},
     "output_type": "execute_result"
    }
   ],
   "source": [
    "x=[[1,2],[3,4]]\n",
    "y=[[2,3],[4,5]]\n",
    "result = [[0,0],[0,0]]\n",
    "\n",
    "for i in range(len(x)):\n",
    "    for j in range(len(y[0])):\n",
    "        for k in range(len(y)):\n",
    "            result[i][j] += (x[i][k]+y[k][j])\n",
    "            #print(i,j,' ',i, k,' ',k,j)\n",
    "            \n",
    "result"
   ]
  }
 ],
 "metadata": {
  "kernelspec": {
   "display_name": "Python 3",
   "language": "python",
   "name": "python3"
  },
  "language_info": {
   "codemirror_mode": {
    "name": "ipython",
    "version": 3
   },
   "file_extension": ".py",
   "mimetype": "text/x-python",
   "name": "python",
   "nbconvert_exporter": "python",
   "pygments_lexer": "ipython3",
   "version": "3.8.8"
  }
 },
 "nbformat": 4,
 "nbformat_minor": 5
}
