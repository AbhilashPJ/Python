{
 "cells": [
  {
   "cell_type": "markdown",
   "id": "8c913e68",
   "metadata": {},
   "source": [
    "### 1. WAP print to check if the number entered by the user is even or odd"
   ]
  },
  {
   "cell_type": "code",
   "execution_count": 10,
   "id": "a65fd1ae",
   "metadata": {},
   "outputs": [
    {
     "name": "stdout",
     "output_type": "stream",
     "text": [
      "Enter a number2\n",
      "2 is a even number\n"
     ]
    }
   ],
   "source": [
    "number = int(input('Enter a number:'))\n",
    "\n",
    "if number % 2 == 0:\n",
    "    print(number,'is a even number')\n",
    "elif number % 2 == 1:\n",
    "    print(number, 'is a odd number')"
   ]
  },
  {
   "cell_type": "markdown",
   "id": "b91dfd4b",
   "metadata": {},
   "source": [
    "### 2. WAP using shorthand ifelse to check which of the two numbers is greater"
   ]
  },
  {
   "cell_type": "code",
   "execution_count": 15,
   "id": "e77134b8",
   "metadata": {},
   "outputs": [
    {
     "name": "stdout",
     "output_type": "stream",
     "text": [
      "Enter first number: 2\n",
      "Enter second number2\n",
      "looks like they are twins! ;)\n"
     ]
    }
   ],
   "source": [
    "num_1 = int(input('Enter first number: '))\n",
    "num_2 = int(input('Enter second number'))\n",
    "\n",
    "if(num_1 > num_2):\n",
    "    print(num_1,'is greater')\n",
    "elif(num_1 < num_2):\n",
    "    print(num_2,'is greater')\n",
    "else:\n",
    "    print('looks like they are twins! ;)')"
   ]
  },
  {
   "cell_type": "markdown",
   "id": "ec0c9078",
   "metadata": {},
   "source": [
    "### 3: A shopkeeper gives a discount of 10% if the cost of purchased quantity is more than 1000. WAP to ask user for quantity. Considering one unit will cost 100, calculate the total cost to be paid by the user."
   ]
  },
  {
   "cell_type": "code",
   "execution_count": 38,
   "id": "d4feceed",
   "metadata": {},
   "outputs": [
    {
     "name": "stdout",
     "output_type": "stream",
     "text": [
      "Hi welcome to Aamzon, we provide fresh quality Mangoes(Aam) @ 100/each !\n",
      "** Alert!! you can avail 10% discount if order more than 1000 quantity!!! Hurry up! ** \n",
      "\n",
      "Enter Qty:3333\n",
      "--- Bill Summary ---\n",
      "Total Cost:\t 100 x 3333 = 333300\n",
      "Discount(10%):\t 33330.0\n",
      "Total amount:\t 299970.0 /-\n"
     ]
    }
   ],
   "source": [
    "print('Hi welcome to Aamzon,','we provide fresh quality Mangoes(Aam) @ 100/each !')\n",
    "print('** Alert!! you can avail 10% discount if order more than 1000 quantity!!! Hurry up! ** \\n')\n",
    "qty = int(input('Enter Qty:'))\n",
    "\n",
    "if(qty > 1000):\n",
    "    \n",
    "    total_cost = 100 * qty\n",
    "    discount = (total_cost*0.1)\n",
    "    total_cost_w_disc = ( (total_cost) -  discount)\n",
    "    print('--- Bill Summary ---')\n",
    "    print('Total Cost:\\t','100 x', qty, '=',total_cost)\n",
    "    print('Discount(10%):\\t',discount)\n",
    "    print('Total amount:\\t',total_cost_w_disc)\n",
    "    \n",
    "elif(qty>0 & qty<=1000):\n",
    "    \n",
    "    total_cost = 100 * qty\n",
    "    print('\\n --- Bill Summary ---')\n",
    "    print('Total Cost:\\t','100 x', qty, '=',total_cost)\n",
    "    print('Total amount:\\t',total_cost)\n",
    "    \n",
    "else:\n",
    "    print(\"-_- please visit again...\")"
   ]
  },
  {
   "cell_type": "markdown",
   "id": "d9cbda21",
   "metadata": {},
   "source": [
    "### 4: A school has following rules for grading system:\n",
    "- Below 25 - F\n",
    "- 25 to 45 - E\n",
    "- 45 to 50 - D\n",
    "- 50 to 60 - C\n",
    "- 60 to 80 - B\n",
    "- Above 80 - A\n",
    "\n",
    "Ask user to enter marks and print the corresponding grade."
   ]
  },
  {
   "cell_type": "code",
   "execution_count": 43,
   "id": "d921c745",
   "metadata": {},
   "outputs": [
    {
     "name": "stdout",
     "output_type": "stream",
     "text": [
      "Please enter your marks scored to know your grade6\n",
      "You have earned F grade\n"
     ]
    }
   ],
   "source": [
    "marks = int(input('Please enter your marks scored to know your grade'))\n",
    "\n",
    "if (marks > 80):\n",
    "    print('You have earned A grade')\n",
    "elif((marks > 60 and marks <= 80)):\n",
    "    print('You have earned B grade')\n",
    "elif(marks > 50 and marks <= 60):\n",
    "    print('You have earned C grade')\n",
    "elif(marks > 45 and marks <= 50):\n",
    "    print('You have earned D grade')\n",
    "elif(marks > 25 and marks <= 45):\n",
    "    print('You have earned E grade')\n",
    "else:\n",
    "    print('You have earned F grade')"
   ]
  },
  {
   "cell_type": "code",
   "execution_count": null,
   "id": "e896bcba",
   "metadata": {},
   "outputs": [],
   "source": []
  }
 ],
 "metadata": {
  "kernelspec": {
   "display_name": "Python 3",
   "language": "python",
   "name": "python3"
  },
  "language_info": {
   "codemirror_mode": {
    "name": "ipython",
    "version": 3
   },
   "file_extension": ".py",
   "mimetype": "text/x-python",
   "name": "python",
   "nbconvert_exporter": "python",
   "pygments_lexer": "ipython3",
   "version": "3.8.8"
  }
 },
 "nbformat": 4,
 "nbformat_minor": 5
}
