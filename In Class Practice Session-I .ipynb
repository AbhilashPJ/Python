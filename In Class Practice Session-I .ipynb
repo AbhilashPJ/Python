{
 "cells": [
  {
   "cell_type": "markdown",
   "id": "6a220b34",
   "metadata": {},
   "source": [
    "## 1. WAP to print the multiplication table of 10"
   ]
  },
  {
   "cell_type": "code",
   "execution_count": 1,
   "id": "c3f882a9",
   "metadata": {},
   "outputs": [
    {
     "name": "stdout",
     "output_type": "stream",
     "text": [
      "10 x 1 = 10\n",
      "10 x 2 = 20\n",
      "10 x 3 = 30\n",
      "10 x 4 = 40\n",
      "10 x 5 = 50\n",
      "10 x 6 = 60\n",
      "10 x 7 = 70\n",
      "10 x 8 = 80\n",
      "10 x 9 = 90\n",
      "10 x 10 = 100\n"
     ]
    }
   ],
   "source": [
    "print(\"10 x 1 = 10\")\n",
    "print(\"10 x 2 = 20\")\n",
    "print(\"10 x 3 = 30\")\n",
    "print(\"10 x 4 = 40\")\n",
    "print(\"10 x 5 = 50\")\n",
    "print(\"10 x 6 = 60\")\n",
    "print(\"10 x 7 = 70\")\n",
    "print(\"10 x 8 = 80\")\n",
    "print(\"10 x 9 = 90\")\n",
    "print(\"10 x 10 = 100\")"
   ]
  },
  {
   "cell_type": "markdown",
   "id": "2196c919",
   "metadata": {},
   "source": [
    "## 2. WAP to swap two variables of User's choice"
   ]
  },
  {
   "cell_type": "code",
   "execution_count": 3,
   "id": "e4c2755a",
   "metadata": {},
   "outputs": [
    {
     "name": "stdout",
     "output_type": "stream",
     "text": [
      "Enter first variable20\n",
      "Enter second variable30\n",
      "30 20\n"
     ]
    }
   ],
   "source": [
    "input1 = input('Enter first variable')\n",
    "input2 = input('Enter second variable')\n",
    "\n",
    "tempVar = input2\n",
    "\n",
    "input2 = input1\n",
    "\n",
    "input1 = tempVar\n",
    "\n",
    "print(input1, input2)"
   ]
  },
  {
   "cell_type": "markdown",
   "id": "3af8786c",
   "metadata": {},
   "source": [
    "## 3. WAP to swap two variables without using a third variable\n",
    "### using addition-subtraction, multiplication-division"
   ]
  },
  {
   "cell_type": "code",
   "execution_count": 5,
   "id": "3b6f373c",
   "metadata": {},
   "outputs": [
    {
     "name": "stdout",
     "output_type": "stream",
     "text": [
      "10 25\n"
     ]
    }
   ],
   "source": [
    "first_val = 25\n",
    "second_val = 10\n",
    "\n",
    "second_val = second_val + first_val\n",
    "\n",
    "first_val = second_val - first_val\n",
    "\n",
    "second_val = second_val - first_val\n",
    "\n",
    "print(first_val, second_val)"
   ]
  },
  {
   "cell_type": "markdown",
   "id": "d0b542fd",
   "metadata": {},
   "source": [
    "## 4. WAP to swap two variables without using a third variable\n",
    "### without using addition-subtraction, multiplication-division (use XOR)"
   ]
  },
  {
   "cell_type": "code",
   "execution_count": 25,
   "id": "c2a6d934",
   "metadata": {},
   "outputs": [
    {
     "name": "stdout",
     "output_type": "stream",
     "text": [
      "10 25\n"
     ]
    }
   ],
   "source": [
    "first_val = 25\n",
    "second_val = 10\n",
    "\n",
    "first_val = first_val ^ second_val\n",
    "second_val = first_val ^ second_val \n",
    "first_val = first_val ^ second_val \n",
    "print(first_val, second_val)"
   ]
  }
 ],
 "metadata": {
  "kernelspec": {
   "display_name": "Python 3",
   "language": "python",
   "name": "python3"
  },
  "language_info": {
   "codemirror_mode": {
    "name": "ipython",
    "version": 3
   },
   "file_extension": ".py",
   "mimetype": "text/x-python",
   "name": "python",
   "nbconvert_exporter": "python",
   "pygments_lexer": "ipython3",
   "version": "3.8.8"
  }
 },
 "nbformat": 4,
 "nbformat_minor": 5
}
