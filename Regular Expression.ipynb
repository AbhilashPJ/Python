{
 "cells": [
  {
   "cell_type": "code",
   "execution_count": 4,
   "id": "7bd95176",
   "metadata": {},
   "outputs": [],
   "source": [
    "import re"
   ]
  },
  {
   "cell_type": "code",
   "execution_count": 14,
   "id": "f1a55603",
   "metadata": {},
   "outputs": [
    {
     "name": "stdout",
     "output_type": "stream",
     "text": [
      "Enter your Email ID:a12_abc@gmmail.com\n",
      "a12_abc@gmmail.com is a valid Email ID\n"
     ]
    }
   ],
   "source": [
    "email = input('Enter your Email ID:')\n",
    "\n",
    "regex = '[0-9a-zA-z]+[.]*[_0-9a-zA-Z]*@[a-zA-Z]+.[a-zA-Z]+'\n",
    "\n",
    "check = re.search(regex,email)\n",
    "\n",
    "if check:\n",
    "    print(email,'is a valid Email ID')\n",
    "else:\n",
    "    print(email,'is invalid Email ID')"
   ]
  },
  {
   "cell_type": "code",
   "execution_count": null,
   "id": "558532aa",
   "metadata": {},
   "outputs": [],
   "source": []
  }
 ],
 "metadata": {
  "kernelspec": {
   "display_name": "Python 3",
   "language": "python",
   "name": "python3"
  },
  "language_info": {
   "codemirror_mode": {
    "name": "ipython",
    "version": 3
   },
   "file_extension": ".py",
   "mimetype": "text/x-python",
   "name": "python",
   "nbconvert_exporter": "python",
   "pygments_lexer": "ipython3",
   "version": "3.8.8"
  }
 },
 "nbformat": 4,
 "nbformat_minor": 5
}
