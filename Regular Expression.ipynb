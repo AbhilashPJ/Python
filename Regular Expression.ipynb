{
 "cells": [
  {
   "cell_type": "code",
   "execution_count": 4,
   "id": "ad0e7268",
   "metadata": {},
   "outputs": [],
   "source": [
    "import re"
   ]
  },
  {
   "cell_type": "code",
   "execution_count": 18,
   "id": "7b93f23d",
   "metadata": {},
   "outputs": [
    {
     "name": "stdout",
     "output_type": "stream",
     "text": [
      "Enter your Email ID: a12.123@gmail.com\n",
      "a12.123@gmail.com is invalid Email ID\n"
     ]
    }
   ],
   "source": [
    "email = input('Enter your Email ID: ')\n",
    "\n",
    "regex = '[a-zA-z]+[.]*[_0-9a-zA-Z]*@[a-zA-Z]+.[a-zA-Z]+'\n",
    "\n",
    "check = re.search(regex,email)\n",
    "\n",
    "if check:\n",
    "    print(email,'is a valid Email ID')\n",
    "else:\n",
    "    print(email,'is invalid Email ID')"
   ]
  }
 ],
 "metadata": {
  "kernelspec": {
   "display_name": "Python 3",
   "language": "python",
   "name": "python3"
  },
  "language_info": {
   "codemirror_mode": {
    "name": "ipython",
    "version": 3
   },
   "file_extension": ".py",
   "mimetype": "text/x-python",
   "name": "python",
   "nbconvert_exporter": "python",
   "pygments_lexer": "ipython3",
   "version": "3.8.8"
  }
 },
 "nbformat": 4,
 "nbformat_minor": 5
}
